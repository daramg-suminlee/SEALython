{
 "cells": [
  {
   "cell_type": "markdown",
   "metadata": {},
   "source": [
    "# Example: Rotation in BFV\n",
    "\n",
    "Both the BFV and BGV schemes (with BatchEncoder) as well as the CKKS scheme support\n",
    "native vectorized computations on encrypted numbers. In addition to computing slot-wise,\n",
    "it is possible to rotate the encrypted vectors cyclically.\n",
    "\n",
    "Simply changing `scheme_type.bfv` to `scheme_type.bgv` will make this example work for\n",
    "the BGV scheme."
   ]
  },
  {
   "cell_type": "code",
   "execution_count": 1,
   "metadata": {},
   "outputs": [
    {
     "name": "stdout",
     "output_type": "stream",
     "text": [
      "/\n",
      "| Encryption parameters\n",
      "| scheme: bfv\n",
      "| poly_modulus_degree: 8192\n",
      "| coeff_modulus size: 218(43 + 43 + 44 + 44 + 44) bits\n",
      "| plain_modulus: 1032193\n",
      "\\\n"
     ]
    }
   ],
   "source": [
    "import seal\n",
    "import example_helper\n",
    "\n",
    "parms = seal.EncryptionParameters(seal.scheme_type.bfv)\n",
    "poly_modulus_degree = 8192\n",
    "parms.poly_modulus_degree = poly_modulus_degree\n",
    "parms.coeff_modulus = seal.CoeffModulus.BFVDefault(poly_modulus_degree)\n",
    "parms.plain_modulus = seal.PlainModulus.Batching(poly_modulus_degree, 20)\n",
    "\n",
    "context = seal.SEALContext(parms)\n",
    "example_helper.print_parameters(context)"
   ]
  },
  {
   "cell_type": "code",
   "execution_count": 2,
   "metadata": {},
   "outputs": [
    {
     "name": "stdout",
     "output_type": "stream",
     "text": [
      "Plaintext matrix row size: 4096\n"
     ]
    }
   ],
   "source": [
    "keygen = seal.KeyGenerator(context)\n",
    "secret_key = keygen.secret_key\n",
    "public_key = keygen.create_public_key()\n",
    "relin_keys = keygen.create_relin_keys()\n",
    "encryptor = seal.Encryptor(context, public_key)\n",
    "evaluator = seal.Evaluator(context)\n",
    "decryptor = seal.Decryptor(context, secret_key)\n",
    "\n",
    "batch_encoder = seal.BatchEncoder(context)\n",
    "slot_count = batch_encoder.slot_count\n",
    "row_size = slot_count // 2\n",
    "print(f\"Plaintext matrix row size: {row_size}\")"
   ]
  },
  {
   "cell_type": "code",
   "execution_count": 3,
   "metadata": {},
   "outputs": [
    {
     "name": "stdout",
     "output_type": "stream",
     "text": [
      "Input plaintext matrix:\n",
      "\n",
      "    [ 0.000, 1.000, 2.000, 3.000, 0.000, ..., 0.000, 0.000, 0.000, 0.000, 0.000 ]\n",
      "    [ 4.000, 5.000, 6.000, 7.000, 0.000, ..., 0.000, 0.000, 0.000, 0.000, 0.000 ]\n",
      "\n"
     ]
    }
   ],
   "source": [
    "pod_matrix = [0 for _ in range(slot_count)]\n",
    "pod_matrix[0] = 0\n",
    "pod_matrix[1] = 1\n",
    "pod_matrix[2] = 2\n",
    "pod_matrix[3] = 3\n",
    "pod_matrix[row_size] = 4\n",
    "pod_matrix[row_size+1] = 5\n",
    "pod_matrix[row_size+2] = 6\n",
    "pod_matrix[row_size+3] = 7\n",
    "\n",
    "print(\"Input plaintext matrix:\")\n",
    "example_helper.print_matrix(pod_matrix, row_size)"
   ]
  },
  {
   "cell_type": "markdown",
   "metadata": {},
   "source": [
    "First we use BatchEncoder to encode the matrix into a plaintext. We encrypt\n",
    "the plaintext as usual."
   ]
  },
  {
   "cell_type": "code",
   "execution_count": 4,
   "metadata": {},
   "outputs": [
    {
     "name": "stdout",
     "output_type": "stream",
     "text": [
      "noise budget in encrypted_matrix: 146 bits\n"
     ]
    }
   ],
   "source": [
    "plain_matrix = batch_encoder.encode(pod_matrix)\n",
    "encrypted_matrix = encryptor.encrypt(plain_matrix)\n",
    "print(f\"noise budget in encrypted_matrix: {decryptor.invariant_noise_budget(encrypted_matrix)} bits\")"
   ]
  },
  {
   "cell_type": "markdown",
   "metadata": {},
   "source": [
    "Rotations require yet another type of special key called `Galois keys`. These\n",
    "are easily obtained from the KeyGenerator."
   ]
  },
  {
   "cell_type": "code",
   "execution_count": 5,
   "metadata": {},
   "outputs": [],
   "source": [
    "galois_keys = keygen.create_galois_keys()"
   ]
  },
  {
   "cell_type": "markdown",
   "metadata": {},
   "source": [
    "Now rotate both matrix rows 3 steps to the left, decrypt, decode, and print."
   ]
  },
  {
   "cell_type": "code",
   "execution_count": 6,
   "metadata": {},
   "outputs": [
    {
     "name": "stdout",
     "output_type": "stream",
     "text": [
      "Rotate rows 3 steps left.\n",
      "    + Noise budget after rotation: 142 bits\n",
      "    + Decrypt and decode\n",
      "\n",
      "    [ 3.000, 0.000, 0.000, 0.000, 0.000, ..., 0.000, 0.000, 0.000, 1.000, 2.000 ]\n",
      "    [ 7.000, 0.000, 0.000, 0.000, 0.000, ..., 0.000, 0.000, 4.000, 5.000, 6.000 ]\n",
      "\n"
     ]
    }
   ],
   "source": [
    "print(\"Rotate rows 3 steps left.\")\n",
    "evaluator.rotate_rows_inplace(encrypted_matrix, 3, galois_keys)\n",
    "print(f\"    + Noise budget after rotation: {decryptor.invariant_noise_budget(encrypted_matrix)} bits\")\n",
    "print(f\"    + Decrypt and decode\")\n",
    "plain_result = decryptor.decrypt(encrypted_matrix)\n",
    "pod_matrix = batch_encoder.decode(plain_result)\n",
    "example_helper.print_matrix(pod_matrix, row_size)"
   ]
  },
  {
   "cell_type": "markdown",
   "metadata": {},
   "source": [
    "We can also rotate the columns, i.e., swap the rows."
   ]
  },
  {
   "cell_type": "code",
   "execution_count": 7,
   "metadata": {},
   "outputs": [
    {
     "name": "stdout",
     "output_type": "stream",
     "text": [
      "Rotate columns.\n",
      "    + Noise budget after rotation: 142 bits\n",
      "    + Decrypt and decode\n",
      "\n",
      "    [ 7.000, 0.000, 0.000, 0.000, 0.000, ..., 0.000, 0.000, 4.000, 5.000, 6.000 ]\n",
      "    [ 3.000, 0.000, 0.000, 0.000, 0.000, ..., 0.000, 0.000, 0.000, 1.000, 2.000 ]\n",
      "\n"
     ]
    }
   ],
   "source": [
    "print(\"Rotate columns.\")\n",
    "evaluator.rotate_columns_inplace(encrypted_matrix, galois_keys)\n",
    "print(f\"    + Noise budget after rotation: {decryptor.invariant_noise_budget(encrypted_matrix)} bits\")\n",
    "print(f\"    + Decrypt and decode\")\n",
    "plain_result = decryptor.decrypt(encrypted_matrix)\n",
    "pod_matrix = batch_encoder.decode(plain_result)\n",
    "example_helper.print_matrix(pod_matrix, row_size)"
   ]
  },
  {
   "cell_type": "markdown",
   "metadata": {},
   "source": [
    "Finally, we rotate the rows 4 steps to the right, decrypt, decode, and print."
   ]
  },
  {
   "cell_type": "code",
   "execution_count": 8,
   "metadata": {},
   "outputs": [
    {
     "name": "stdout",
     "output_type": "stream",
     "text": [
      "Rotate rows 4 steps right.\n",
      "    + Noise budget after rotation: 142 bits\n",
      "    + Decrypt and decode\n",
      "\n",
      "    [ 0.000, 4.000, 5.000, 6.000, 7.000, ..., 0.000, 0.000, 0.000, 0.000, 0.000 ]\n",
      "    [ 0.000, 0.000, 1.000, 2.000, 3.000, ..., 0.000, 0.000, 0.000, 0.000, 0.000 ]\n",
      "\n"
     ]
    }
   ],
   "source": [
    "print(\"Rotate rows 4 steps right.\")\n",
    "evaluator.rotate_rows_inplace(encrypted_matrix, -4, galois_keys)\n",
    "print(f\"    + Noise budget after rotation: {decryptor.invariant_noise_budget(encrypted_matrix)} bits\")\n",
    "print(f\"    + Decrypt and decode\")\n",
    "plain_result = decryptor.decrypt(encrypted_matrix)\n",
    "pod_matrix = batch_encoder.decode(plain_result)\n",
    "example_helper.print_matrix(pod_matrix, row_size)"
   ]
  },
  {
   "cell_type": "markdown",
   "metadata": {},
   "source": [
    "Note that rotations do not consume any noise budget. However, this is only\n",
    "the case when the special prime is at least as large as the other primes. The\n",
    "same holds for relinearization. Microsoft SEAL does not require that the\n",
    "special prime is of any particular size, so ensuring this is the case is left\n",
    "for the user to do."
   ]
  }
 ],
 "metadata": {
  "interpreter": {
   "hash": "8c8e7fd03e532e5ea8c5c1e9477778b4377085d08aba5d98b415e479bafe6b16"
  },
  "kernelspec": {
   "display_name": "Python 3.8.10 ('SEALython-7og8I00u')",
   "language": "python",
   "name": "python3"
  },
  "language_info": {
   "codemirror_mode": {
    "name": "ipython",
    "version": 3
   },
   "file_extension": ".py",
   "mimetype": "text/x-python",
   "name": "python",
   "nbconvert_exporter": "python",
   "pygments_lexer": "ipython3",
   "version": "3.8.10"
  },
  "orig_nbformat": 4
 },
 "nbformat": 4,
 "nbformat_minor": 2
}
