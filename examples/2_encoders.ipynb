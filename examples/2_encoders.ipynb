{
 "cells": [
  {
   "cell_type": "markdown",
   "metadata": {},
   "source": [
    "# Example: Encoders / Batch Encoder\n",
    "\n",
    "In `1_bfv_basics.ipynb` we showed how to perform a very simple computation using the\n",
    "BFV scheme. The computation was performed modulo the plain_modulus parameter, and\n",
    "utilized only one coefficient from a BFV plaintext polynomial. This approach has\n",
    "two notable problems:\n",
    "\n",
    "  1. Practical applications typically use integer or real number arithmetic,\n",
    "    not modular arithmetic.\n",
    "  2. We used only one coefficient of the plaintext polynomial. This is really\n",
    "    wasteful, as the plaintext polynomial is large and will in any case be\n",
    "    encrypted in its entirety.\n",
    "\n",
    "For (1), one may ask why not just increase the plain_modulus parameter until no\n",
    "overflow occurs, and the computations behave as in integer arithmetic. The problem\n",
    "is that increasing plain_modulus increases noise budget consumption, and decreases\n",
    "the initial noise budget too.\n",
    "\n",
    "In these examples we will discuss other ways of laying out data into plaintext\n",
    "elements (encoding) that allow more computations without data type overflow, and\n",
    "can allow the full plaintext polynomial to be utilized."
   ]
  },
  {
   "cell_type": "code",
   "execution_count": 1,
   "metadata": {},
   "outputs": [],
   "source": [
    "import seal\n",
    "import example_helper"
   ]
  },
  {
   "cell_type": "markdown",
   "metadata": {},
   "source": [
    "Let `N` denote the `poly_modulus_degree` and `T` denote the `plain_modulus`. Batching\n",
    "allows the BFV plaintext polynomials to be viewed as `2-by-(N/2)` matrices, with\n",
    "each element an integer modulo `T`. In the matrix view, encrypted operations act\n",
    "element-wise on encrypted matrices, allowing the user to obtain speeds-ups of\n",
    "several orders of magnitude in fully vectorizable computations. Thus, in all\n",
    "but the simplest computations, batching should be the preferred method to use\n",
    "with BFV, and when used properly will result in implementations outperforming\n",
    "anything done without batching.\n",
    "\n",
    "In a later example, we will demonstrate how to use the BGV scheme. Batching\n",
    "works similarly for the BGV scheme to this example for the BFV scheme. For example,\n",
    "simply changing `scheme_type.bfv` into `scheme_type.bgv` can make this example\n",
    "work for the BGV scheme."
   ]
  },
  {
   "cell_type": "code",
   "execution_count": 2,
   "metadata": {},
   "outputs": [],
   "source": [
    "parms = seal.EncryptionParameters(seal.scheme_type.bfv)\n",
    "poly_modulus_degree = 8192\n",
    "parms.poly_modulus_degree = poly_modulus_degree\n",
    "parms.coeff_modulus = seal.CoeffModulus.BFVDefault(poly_modulus_degree)"
   ]
  },
  {
   "cell_type": "markdown",
   "metadata": {},
   "source": [
    "To enable batching, we need to set the `plain_modulus` to be a prime number\n",
    "congruent to `1 modulo 2*poly_modulus_degree`. Microsoft SEAL provides a helper\n",
    "method for finding such a prime. In this example we create a 20-bit prime\n",
    "that supports batching."
   ]
  },
  {
   "cell_type": "code",
   "execution_count": 3,
   "metadata": {},
   "outputs": [
    {
     "name": "stdout",
     "output_type": "stream",
     "text": [
      "/\n",
      "| Encryption parameters\n",
      "| scheme: bfv\n",
      "| poly_modulus_degree: 8192\n",
      "| coeff_modulus size: 218(43 + 43 + 44 + 44 + 44) bits\n",
      "| plain_modulus: 1032193\n",
      "\\\n"
     ]
    }
   ],
   "source": [
    "parms.plain_modulus = seal.PlainModulus.Batching(poly_modulus_degree, 20)\n",
    "\n",
    "context = seal.SEALContext(parms)\n",
    "example_helper.print_parameters(context)"
   ]
  },
  {
   "cell_type": "markdown",
   "metadata": {},
   "source": [
    "We can verify that batching is indeed enabled by looking at the encryption\n",
    "parameter qualifiers created by SEALContext."
   ]
  },
  {
   "cell_type": "code",
   "execution_count": 4,
   "metadata": {},
   "outputs": [
    {
     "name": "stdout",
     "output_type": "stream",
     "text": [
      "Batching enabled: True\n"
     ]
    }
   ],
   "source": [
    "qualifiers = context.first_context_data.qualifiers\n",
    "print(f\"Batching enabled: {qualifiers.using_batching}\")"
   ]
  },
  {
   "cell_type": "code",
   "execution_count": 5,
   "metadata": {},
   "outputs": [],
   "source": [
    "keygen = seal.KeyGenerator(context)\n",
    "secret_key = keygen.secret_key\n",
    "public_key = keygen.create_public_key()\n",
    "relin_keys = keygen.create_relin_keys()\n",
    "encryptor = seal.Encryptor(context, public_key)\n",
    "evaluator = seal.Evaluator(context)\n",
    "decryptor = seal.Decryptor(context, secret_key)"
   ]
  },
  {
   "cell_type": "markdown",
   "metadata": {},
   "source": [
    "Batching is done through an instance of the BatchEncoder class."
   ]
  },
  {
   "cell_type": "code",
   "execution_count": 6,
   "metadata": {},
   "outputs": [],
   "source": [
    "batch_encoder = seal.BatchEncoder(context)"
   ]
  },
  {
   "cell_type": "markdown",
   "metadata": {},
   "source": [
    "The total number of batching `slots` equals the `poly_modulus_degree`, `N`, and\n",
    "these slots are organized into `2-by-(N/2)` matrices that can be encrypted and\n",
    "computed on. Each slot contains an integer modulo `plain_modulus`."
   ]
  },
  {
   "cell_type": "code",
   "execution_count": 7,
   "metadata": {},
   "outputs": [
    {
     "name": "stdout",
     "output_type": "stream",
     "text": [
      "Plaintext matrix row size: 4096\n"
     ]
    }
   ],
   "source": [
    "slot_count = batch_encoder.slot_count\n",
    "row_size = slot_count // 2\n",
    "print(f\"Plaintext matrix row size: {row_size}\")"
   ]
  },
  {
   "cell_type": "markdown",
   "metadata": {},
   "source": [
    "The matrix plaintext is simply given to BatchEncoder as a flattened vector\n",
    "of numbers. The first `row_size` many numbers form the first row, and the\n",
    "rest form the second row. Here we create the following matrix:\n",
    "\n",
    "    [ 0,  1,  2,  3,  0,  0, ...,  0 ]\n",
    "    [ 4,  5,  6,  7,  0,  0, ...,  0 ]"
   ]
  },
  {
   "cell_type": "code",
   "execution_count": 8,
   "metadata": {},
   "outputs": [
    {
     "name": "stdout",
     "output_type": "stream",
     "text": [
      "Input plaintext matrix:\n",
      "\n",
      "    [ 0.000, 1.000, 2.000, 3.000, 0.000, ..., 0.000, 0.000, 0.000, 0.000, 0.000 ]\n",
      "    [ 4.000, 5.000, 6.000, 7.000, 0.000, ..., 0.000, 0.000, 0.000, 0.000, 0.000 ]\n",
      "\n"
     ]
    }
   ],
   "source": [
    "pod_matrix = [0 for _ in range(slot_count)]\n",
    "pod_matrix[0] = 0\n",
    "pod_matrix[1] = 1\n",
    "pod_matrix[2] = 2\n",
    "pod_matrix[3] = 3\n",
    "pod_matrix[row_size] = 4\n",
    "pod_matrix[row_size+1] = 5\n",
    "pod_matrix[row_size+2] = 6\n",
    "pod_matrix[row_size+3] = 7\n",
    "\n",
    "print(\"Input plaintext matrix:\")\n",
    "example_helper.print_matrix(pod_matrix, row_size)\n"
   ]
  },
  {
   "cell_type": "markdown",
   "metadata": {},
   "source": [
    "First we use BatchEncoder to encode the matrix into a plaintext polynomial."
   ]
  },
  {
   "cell_type": "code",
   "execution_count": 9,
   "metadata": {},
   "outputs": [
    {
     "name": "stdout",
     "output_type": "stream",
     "text": [
      "Encode plaintext matrix.\n"
     ]
    }
   ],
   "source": [
    "print(\"Encode plaintext matrix.\")\n",
    "plain_matrix = batch_encoder.encode(pod_matrix)"
   ]
  },
  {
   "cell_type": "markdown",
   "metadata": {},
   "source": [
    "We can instantly decode to verify correctness of the encoding. Note that no\n",
    "encryption or decryption has yet taken place."
   ]
  },
  {
   "cell_type": "code",
   "execution_count": 10,
   "metadata": {},
   "outputs": [
    {
     "name": "stdout",
     "output_type": "stream",
     "text": [
      "\n",
      "    [ 0.000, 1.000, 2.000, 3.000, 0.000, ..., 0.000, 0.000, 0.000, 0.000, 0.000 ]\n",
      "    [ 4.000, 5.000, 6.000, 7.000, 0.000, ..., 0.000, 0.000, 0.000, 0.000, 0.000 ]\n",
      "\n"
     ]
    }
   ],
   "source": [
    "pod_result = batch_encoder.decode(plain_matrix)\n",
    "example_helper.print_matrix(pod_result, row_size)"
   ]
  },
  {
   "cell_type": "code",
   "execution_count": 11,
   "metadata": {},
   "outputs": [
    {
     "name": "stdout",
     "output_type": "stream",
     "text": [
      "Encrypt plain_matrix to encrypted_matrix.\n",
      "noise budget in encrypted_matrix: 146 bits\n"
     ]
    }
   ],
   "source": [
    "print(\"Encrypt plain_matrix to encrypted_matrix.\")\n",
    "encrypted_matrix = encryptor.encrypt(plain_matrix)\n",
    "print(f\"noise budget in encrypted_matrix: {decryptor.invariant_noise_budget(encrypted_matrix)} bits\")"
   ]
  },
  {
   "cell_type": "markdown",
   "metadata": {},
   "source": [
    "Operating on the ciphertext results in homomorphic operations being performed\n",
    "simultaneously in all 8192 slots (matrix elements). To illustrate this, we\n",
    "form another plaintext matrix\n",
    "\n",
    "    [ 1,  2,  1,  2,  1,  2, ..., 2 ]\n",
    "    [ 1,  2,  1,  2,  1,  2, ..., 2 ]\n",
    "    \n",
    "and encode it into a plaintext."
   ]
  },
  {
   "cell_type": "code",
   "execution_count": 12,
   "metadata": {},
   "outputs": [
    {
     "name": "stdout",
     "output_type": "stream",
     "text": [
      "Second input plaintext matirx:\n",
      "\n",
      "    [ 1.000, 2.000, 1.000, 2.000, 1.000, ..., 2.000, 1.000, 2.000, 1.000, 2.000 ]\n",
      "    [ 1.000, 2.000, 1.000, 2.000, 1.000, ..., 2.000, 1.000, 2.000, 1.000, 2.000 ]\n",
      "\n"
     ]
    }
   ],
   "source": [
    "pod_matrix2 = [(i & 1) + 1 for i in range(slot_count)]\n",
    "plain_matrix2 = batch_encoder.encode(pod_matrix2)\n",
    "\n",
    "print(\"Second input plaintext matirx:\")\n",
    "example_helper.print_matrix(pod_matrix2, row_size)"
   ]
  },
  {
   "cell_type": "code",
   "execution_count": 13,
   "metadata": {},
   "outputs": [
    {
     "name": "stdout",
     "output_type": "stream",
     "text": [
      "Sum, square, and relinearize.\n",
      "noise budget in result: 114 bits\n"
     ]
    }
   ],
   "source": [
    "print(\"Sum, square, and relinearize.\")\n",
    "evaluator.add_plain_inplace(encrypted_matrix, plain_matrix2)\n",
    "evaluator.square_inplace(encrypted_matrix)\n",
    "evaluator.relinearize_inplace(encrypted_matrix, relin_keys)\n",
    "\n",
    "print(f\"noise budget in result: {decryptor.invariant_noise_budget(encrypted_matrix)} bits\")"
   ]
  },
  {
   "cell_type": "markdown",
   "metadata": {},
   "source": [
    "We decrypt and decompose the plaintext to recover the result as a matrix."
   ]
  },
  {
   "cell_type": "code",
   "execution_count": 14,
   "metadata": {},
   "outputs": [
    {
     "name": "stdout",
     "output_type": "stream",
     "text": [
      "Decrypt and decode result.\n",
      "\n",
      "    [ 1.000, 9.000, 9.000, 25.000, 1.000, ..., 4.000, 1.000, 4.000, 1.000, 4.000 ]\n",
      "    [ 25.000, 49.000, 49.000, 81.000, 1.000, ..., 4.000, 1.000, 4.000, 1.000, 4.000 ]\n",
      "\n"
     ]
    }
   ],
   "source": [
    "print(\"Decrypt and decode result.\")\n",
    "plain_result = decryptor.decrypt(encrypted_matrix)\n",
    "pod_result = batch_encoder.decode(plain_result)\n",
    "example_helper.print_matrix(pod_result, row_size)"
   ]
  },
  {
   "cell_type": "markdown",
   "metadata": {},
   "source": [
    "Batching allows us to efficiently use the full plaintext polynomial when the\n",
    "desired encrypted computation is highly parallelizable. However, it has not\n",
    "solved the other problem mentioned in the beginning of this file: each slot\n",
    "holds only an integer modulo `plain_modulus`, and unless `plain_modulus` is very\n",
    "large, we can quickly encounter data type overflow and get unexpected results\n",
    "when integer computations are desired. Note that overflow cannot be detected\n",
    "in encrypted form. The CKKS scheme (and the CKKSEncoder) addresses the data\n",
    "type overflow issue, but at the cost of yielding only approximate results."
   ]
  }
 ],
 "metadata": {
  "interpreter": {
   "hash": "8c8e7fd03e532e5ea8c5c1e9477778b4377085d08aba5d98b415e479bafe6b16"
  },
  "kernelspec": {
   "display_name": "Python 3.8.10 ('SEALython-7og8I00u')",
   "language": "python",
   "name": "python3"
  },
  "language_info": {
   "codemirror_mode": {
    "name": "ipython",
    "version": 3
   },
   "file_extension": ".py",
   "mimetype": "text/x-python",
   "name": "python",
   "nbconvert_exporter": "python",
   "pygments_lexer": "ipython3",
   "version": "3.9.10"
  },
  "orig_nbformat": 4
 },
 "nbformat": 4,
 "nbformat_minor": 2
}
