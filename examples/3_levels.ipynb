{
 "cells": [
  {
   "cell_type": "markdown",
   "metadata": {},
   "source": [
    "# Example: Levels\n",
    "\n",
    "In this examples we describe the concept of `levels` in BFV and CKKS and the\n",
    "related objects that represent them in Microsoft SEAL.\n",
    "\n",
    "In Microsoft SEAL a set of encryption parameters (excluding the random number\n",
    "generator) is identified uniquely by a 256-bit hash of the parameters. This\n",
    "hash is called the `parms_id` and can be easily accessed and printed at any\n",
    "time. The hash will change as soon as any of the parameters is changed.\n",
    "\n",
    "When a SEALContext is created from a given EncryptionParameters instance,\n",
    "Microsoft SEAL automatically creates a so-called `modulus switching chain`,\n",
    "which is a chain of other encryption parameters derived from the original set.\n",
    "The parameters in the modulus switching chain are the same as the original\n",
    "parameters with the exception that size of the coefficient modulus is\n",
    "decreasing going down the chain. More precisely, each parameter set in the\n",
    "chain attempts to remove the last coefficient modulus prime from the\n",
    "previous set; this continues until the parameter set is no longer valid\n",
    "(e.g., `plain_modulus` is larger than the remaining `coeff_modulus`). It is easy\n",
    "to walk through the chain and access all the parameter sets. Additionally,\n",
    "each parameter set in the chain has a `chain index` that indicates its\n",
    "position in the chain so that the last set has index 0. We say that a set\n",
    "of encryption parameters, or an object carrying those encryption parameters,\n",
    "is at a higher level in the chain than another set of parameters if its the\n",
    "chain index is bigger, i.e., it is earlier in the chain.\n",
    "\n",
    "Each set of parameters in the chain involves unique pre-computations performed\n",
    "when the SEALContext is created, and stored in a `SEALContext.ContextData`\n",
    "object. The chain is basically a linked list of `SEALContext.ContextData`\n",
    "objects, and can easily be accessed through the `SEALContext` at any time. Each\n",
    "node can be identified by the parms_id of its specific encryption parameters\n",
    "(`poly_modulus_degree` remains the same but `coeff_modulus` varies)."
   ]
  },
  {
   "cell_type": "code",
   "execution_count": 1,
   "metadata": {},
   "outputs": [],
   "source": [
    "import seal\n",
    "import example_helper\n",
    "\n",
    "parms = seal.EncryptionParameters(seal.scheme_type.bfv)\n",
    "poly_modulus_degree = 8192\n",
    "parms.poly_modulus_degree = poly_modulus_degree"
   ]
  },
  {
   "cell_type": "markdown",
   "metadata": {},
   "source": [
    "In this example we use a custom coeff_modulus, consisting of 5 primes of\n",
    "sizes 50, 30, 30, 50, and 50 bits. Note that this is still OK according to\n",
    "the explanation in `1_bfv_basics.ipynb`. Indeed, `CoeffModulus.MaxBitCount(poly_modulus_degree)` returns 218 (greater than 50+30+30+50+50=210).\n",
    "\n",
    "Due to the modulus switching chain, the order of the 5 primes is significant.\n",
    "The last prime has a special meaning and we call it the `special prime`. Thus,\n",
    "the first parameter set in the modulus switching chain is the only one that\n",
    "involves the special prime. All key objects, such as `SecretKey`, are created\n",
    "at this highest level. All data objects, such as Ciphertext, can be only at\n",
    "lower levels. The special prime should be as large as the largest of the\n",
    "other primes in the `coeff_modulus`, although this is not a strict requirement.\n",
    "\n",
    "                special prime +---------+\n",
    "                                        |\n",
    "                                        v\n",
    "    coeff_modulus: { 50, 30, 30, 50, 50 }  +---+  Level 4 (all keys; `key level`)\n",
    "                                                |\n",
    "                                                |\n",
    "        coeff_modulus: { 50, 30, 30, 50 }  +---+  Level 3 (highest `data level`)\n",
    "                                                |\n",
    "                                                |\n",
    "            coeff_modulus: { 50, 30, 30 }  +---+  Level 2\n",
    "                                                |\n",
    "                                                |\n",
    "                coeff_modulus: { 50, 30 }  +---+  Level 1\n",
    "                                                |\n",
    "                                                |\n",
    "                    coeff_modulus: { 50 }  +---+  Level 0 (lowest level)"
   ]
  },
  {
   "cell_type": "code",
   "execution_count": 2,
   "metadata": {},
   "outputs": [],
   "source": [
    "parms.coeff_modulus = seal.CoeffModulus.Create(poly_modulus_degree, [50,30,30,50,50])"
   ]
  },
  {
   "cell_type": "markdown",
   "metadata": {},
   "source": [
    "In this example the plain_modulus does not play much of a role; we choose\n",
    "some reasonable value."
   ]
  },
  {
   "cell_type": "code",
   "execution_count": 3,
   "metadata": {},
   "outputs": [
    {
     "name": "stdout",
     "output_type": "stream",
     "text": [
      "/\n",
      "| Encryption parameters\n",
      "| scheme: bfv\n",
      "| poly_modulus_degree: 8192\n",
      "| coeff_modulus size: 210(50 + 30 + 30 + 50 + 50) bits\n",
      "| plain_modulus: 1032193\n",
      "\\\n"
     ]
    }
   ],
   "source": [
    "parms.plain_modulus = seal.PlainModulus.Batching(poly_modulus_degree, 20)\n",
    "context = seal.SEALContext(parms)\n",
    "example_helper.print_parameters(context)"
   ]
  },
  {
   "cell_type": "markdown",
   "metadata": {},
   "source": [
    "There are convenience method for accessing the `SEALContext.ContextData` for\n",
    "some of the most important levels:\n",
    "\n",
    "  - `SEALContext.key_context_data`: access to key level ContextData\n",
    "  - `SEALContext.first_context_data`: access to highest data level ContextData\n",
    "  - `SEALContext.last_context_data`: access to lowest level ContextData\n",
    "\n",
    "We iterate over the chain and print the `parms_id` for each set of parameters."
   ]
  },
  {
   "cell_type": "code",
   "execution_count": 4,
   "metadata": {},
   "outputs": [
    {
     "name": "stdout",
     "output_type": "stream",
     "text": [
      "Print the modulus switching chain.\n",
      "----> Level (chain index): 4 ...... key_context_data\n",
      "      parms_id: [2796926214238341906, 7385196832706630708, 1778331432907072121, 9574839751679865602]\n",
      "      coeff_modulus primes: 0x3ffffffef4001 0x3ffe8001 0x3fff4001 0x3fffffffcc001 0x3ffffffffc001 \n",
      "\\\n",
      " \\--> Level (chain index): 3 ...... first_context_data\n",
      "      parms_id: [2386594185047272216, 3177129986462177089, 5264335169243394227, 3608211254040463884]\n",
      "      coeff_modulus primes: 0x3ffffffef4001 0x3ffe8001 0x3fff4001 0x3fffffffcc001 \n",
      "\\\n",
      " \\--> Level (chain index): 2\n",
      "      parms_id: [9611362035343820607, 16250750482064473934, 11666325943188447289, 11197906540159540193]\n",
      "      coeff_modulus primes: 0x3ffffffef4001 0x3ffe8001 0x3fff4001 \n",
      "\\\n",
      " \\--> Level (chain index): 1\n",
      "      parms_id: [8338375294373729721, 6255090713888968186, 9221042086196212239, 13262945982911515329]\n",
      "      coeff_modulus primes: 0x3ffffffef4001 0x3ffe8001 \n",
      "\\\n",
      " \\--> Level (chain index): 0 ...... last_context_data\n",
      "      parms_id: [12645946865612918007, 3410116064097512307, 265341692546732382, 11895432757488484810]\n",
      "      coeff_modulus primes: 0x3ffffffef4001 \n",
      "\\\n",
      " \\--> End of chain reached\n"
     ]
    }
   ],
   "source": [
    "print(\"Print the modulus switching chain.\")\n",
    "\n",
    "# First print the key level parameter information.\n",
    "context_data = context.key_context_data\n",
    "print(f\"----> Level (chain index): {context_data.chain_index}\", end=\"\")\n",
    "print(f\" ...... key_context_data\")\n",
    "print(f\"      parms_id: {context_data.parms_id}\")\n",
    "print(f\"      coeff_modulus primes: \", end='')\n",
    "for prime in context_data.parms.coeff_modulus:\n",
    "    print(f\"{hex(prime.value)} \", end=\"\")\n",
    "print()\n",
    "print(\"\\\\\")\n",
    "print(\" \\\\-->\", end=\"\")\n",
    "\n",
    "# Next iterate over the remaining (data) levels.\n",
    "context_data = context.first_context_data\n",
    "while context_data:\n",
    "    print(f\" Level (chain index): {context_data.chain_index}\", end=\"\")\n",
    "    if context_data.parms_id == context.first_parms_id:\n",
    "        print(f\" ...... first_context_data\")\n",
    "    elif context_data.parms_id == context.last_parms_id:\n",
    "        print(f\" ...... last_context_data\")\n",
    "    else:\n",
    "        print()\n",
    "    print(f\"      parms_id: {context_data.parms_id}\")\n",
    "    print(f\"      coeff_modulus primes: \", end='')\n",
    "    for prime in context_data.parms.coeff_modulus:\n",
    "        print(f\"{hex(prime.value)} \", end=\"\")\n",
    "    print()\n",
    "    print(\"\\\\\")\n",
    "    print(\" \\\\-->\", end=\"\")\n",
    "    context_data = context_data.next_context_data\n",
    "print(\" End of chain reached\")"
   ]
  },
  {
   "cell_type": "markdown",
   "metadata": {},
   "source": [
    "We create some keys and check that indeed they appear at the highest level."
   ]
  },
  {
   "cell_type": "code",
   "execution_count": 5,
   "metadata": {},
   "outputs": [
    {
     "name": "stdout",
     "output_type": "stream",
     "text": [
      "Print the parameter IDs of generated elements.\n",
      "    + public_key: [2796926214238341906, 7385196832706630708, 1778331432907072121, 9574839751679865602]\n",
      "    + secret_key: [2796926214238341906, 7385196832706630708, 1778331432907072121, 9574839751679865602]\n",
      "    + relin_keys: [2796926214238341906, 7385196832706630708, 1778331432907072121, 9574839751679865602]\n"
     ]
    }
   ],
   "source": [
    "keygen = seal.KeyGenerator(context)\n",
    "secret_key = keygen.secret_key\n",
    "public_key = keygen.create_public_key()\n",
    "relin_keys = keygen.create_relin_keys()\n",
    "\n",
    "print(f\"Print the parameter IDs of generated elements.\")\n",
    "print(f\"    + public_key: {public_key.parms_id}\")\n",
    "print(f\"    + secret_key: {secret_key.parms_id}\")\n",
    "print(f\"    + relin_keys: {relin_keys.parms_id}\")\n",
    "\n",
    "encryptor = seal.Encryptor(context, public_key)\n",
    "evaluator = seal.Evaluator(context)\n",
    "decryptor = seal.Decryptor(context, secret_key)"
   ]
  },
  {
   "cell_type": "markdown",
   "metadata": {},
   "source": [
    "In the BFV scheme plaintexts do not carry a `parms_id`, but ciphertexts do. Note\n",
    "how the freshly encrypted ciphertext is at the highest data level."
   ]
  },
  {
   "cell_type": "code",
   "execution_count": 6,
   "metadata": {},
   "outputs": [
    {
     "name": "stdout",
     "output_type": "stream",
     "text": [
      "    + plain:     [0, 0, 0, 0] (not set in BFV)\n",
      "    + encrypted: [2386594185047272216, 3177129986462177089, 5264335169243394227, 3608211254040463884]\n"
     ]
    }
   ],
   "source": [
    "plain = seal.Plaintext(\"1x^3 + 2x^2 + 3x^1 + 4\")\n",
    "encrypted = encryptor.encrypt(plain)\n",
    "print(f\"    + plain:     {plain.parms_id} (not set in BFV)\")\n",
    "print(f\"    + encrypted: {encrypted.parms_id}\")"
   ]
  },
  {
   "cell_type": "markdown",
   "metadata": {},
   "source": [
    "`Modulus switching` is a technique of changing the ciphertext parameters down\n",
    "in the chain. The function `Evaluator.mod_switch_to_next` always switches to\n",
    "the next level down the chain, whereas `Evaluator.mod_switch_to` switches to\n",
    "a parameter set down the chain corresponding to a given `parms_id`. However, it\n",
    "is impossible to switch up in the chain."
   ]
  },
  {
   "cell_type": "code",
   "execution_count": 7,
   "metadata": {},
   "outputs": [
    {
     "name": "stdout",
     "output_type": "stream",
     "text": [
      "Perform modulus switching on encrypted and print.\n",
      " Level (chain index): 3\n",
      "      parms_id of encrypted: [2386594185047272216, 3177129986462177089, 5264335169243394227, 3608211254040463884]\n",
      "      noise budget at this level: 132 bits\n",
      "\\\n",
      " \\--> Level (chain index): 2\n",
      "      parms_id of encrypted: [9611362035343820607, 16250750482064473934, 11666325943188447289, 11197906540159540193]\n",
      "      noise budget at this level: 82 bits\n",
      "\\\n",
      " \\--> Level (chain index): 1\n",
      "      parms_id of encrypted: [8338375294373729721, 6255090713888968186, 9221042086196212239, 13262945982911515329]\n",
      "      noise budget at this level: 52 bits\n",
      "\\\n",
      " \\--> Level (chain index): 0      parms_id of encrypted: [12645946865612918007, 3410116064097512307, 265341692546732382, 11895432757488484810]\n",
      "      noise budget at this level: 22 bits\n",
      "\\\n",
      " \\--> End of chain reached\n"
     ]
    }
   ],
   "source": [
    "print(\"Perform modulus switching on encrypted and print.\")\n",
    "\n",
    "context_data = context.first_context_data\n",
    "while context_data.next_context_data:\n",
    "    print(f\" Level (chain index): {context_data.chain_index}\")\n",
    "    print(f\"      parms_id of encrypted: {encrypted.parms_id}\")\n",
    "    print(f\"      noise budget at this level: {decryptor.invariant_noise_budget(encrypted)} bits\")\n",
    "    print(\"\\\\\")\n",
    "    print(\" \\\\-->\", end=\"\")\n",
    "    evaluator.mod_switch_to_next_inplace(encrypted)\n",
    "    context_data = context_data.next_context_data\n",
    "print(f\" Level (chain index): {context_data.chain_index}\", end=\"\")\n",
    "print(f\"      parms_id of encrypted: {encrypted.parms_id}\")\n",
    "print(f\"      noise budget at this level: {decryptor.invariant_noise_budget(encrypted)} bits\")\n",
    "print(\"\\\\\")\n",
    "print(\" \\\\-->\", end=\"\")\n",
    "print(\" End of chain reached\")"
   ]
  },
  {
   "cell_type": "markdown",
   "metadata": {},
   "source": [
    "At this point it is hard to see any benefit in doing this: we lost a huge\n",
    "amount of noise budget (i.e., computational power) at each switch and seemed\n",
    "to get nothing in return. Decryption still works."
   ]
  },
  {
   "cell_type": "code",
   "execution_count": 8,
   "metadata": {},
   "outputs": [
    {
     "name": "stdout",
     "output_type": "stream",
     "text": [
      "Decrypt still works after modulus switching.\n",
      "    + Decryption of encrypted: 1x^3 + 2x^2 + 3x^1 + 4\n"
     ]
    }
   ],
   "source": [
    "print(\"Decrypt still works after modulus switching.\")\n",
    "plain = decryptor.decrypt(encrypted)\n",
    "print(f\"    + Decryption of encrypted: {plain.to_string()}\")"
   ]
  },
  {
   "cell_type": "markdown",
   "metadata": {},
   "source": [
    "However, there is a hidden benefit: the size of the ciphertext depends\n",
    "linearly on the number of primes in the coefficient modulus. Thus, if there\n",
    "is no need or intention to perform any further computations on a given\n",
    "ciphertext, we might as well switch it down to the smallest (last) set of\n",
    "parameters in the chain before sending it back to the secret key holder for\n",
    "decryption.\n",
    "\n",
    "Also the lost noise budget is actually not an issue at all, if we do things\n",
    "right, as we will see below.\n",
    "\n",
    "First we recreate the original ciphertext and perform some computations."
   ]
  },
  {
   "cell_type": "code",
   "execution_count": 9,
   "metadata": {},
   "outputs": [
    {
     "name": "stdout",
     "output_type": "stream",
     "text": [
      "Computation is more efficient with modulus switching.\n",
      "Compute the 8th power.\n",
      "    + Noise budget fresh:                   132 bits\n",
      "    + Noise budget of the 2nd power:        100 bits\n",
      "    + Noise budget of the 4th power:        67 bits\n",
      "    + Noise budget after modulus switching: 67 bits\n"
     ]
    }
   ],
   "source": [
    "print(\"Computation is more efficient with modulus switching.\")\n",
    "\n",
    "print(\"Compute the 8th power.\")\n",
    "encrypted = encryptor.encrypt(plain)\n",
    "print(f\"    + Noise budget fresh:                   {decryptor.invariant_noise_budget(encrypted)} bits\")\n",
    "evaluator.square_inplace(encrypted)\n",
    "evaluator.relinearize_inplace(encrypted, relin_keys)\n",
    "print(f\"    + Noise budget of the 2nd power:        {decryptor.invariant_noise_budget(encrypted)} bits\")\n",
    "evaluator.square_inplace(encrypted)\n",
    "evaluator.relinearize_inplace(encrypted, relin_keys)\n",
    "print(f\"    + Noise budget of the 4th power:        {decryptor.invariant_noise_budget(encrypted)} bits\")\n",
    "\n",
    "# Surprisingly, in this case modulus switching has no effect at all on the noise budget.\n",
    "evaluator.mod_switch_to_next_inplace(encrypted)\n",
    "print(f\"    + Noise budget after modulus switching: {decryptor.invariant_noise_budget(encrypted)} bits\")"
   ]
  },
  {
   "cell_type": "markdown",
   "metadata": {},
   "source": [
    "This means that there is no harm at all in dropping some of the coefficient\n",
    "modulus after doing enough computations. In some cases one might want to\n",
    "switch to a lower level slightly earlier, actually sacrificing some of the\n",
    "noise budget in the process, to gain computational performance from having\n",
    "smaller parameters. We see from the print-out that the next modulus switch\n",
    "should be done ideally when the noise budget is down to around 25 bits."
   ]
  },
  {
   "cell_type": "code",
   "execution_count": 10,
   "metadata": {},
   "outputs": [
    {
     "name": "stdout",
     "output_type": "stream",
     "text": [
      "    + Noise budget of the 8th power:        35 bits\n",
      "    + Noise budget after modulus switching: 35 bits\n"
     ]
    }
   ],
   "source": [
    "evaluator.square_inplace(encrypted)\n",
    "evaluator.relinearize_inplace(encrypted, relin_keys)\n",
    "print(f\"    + Noise budget of the 8th power:        {decryptor.invariant_noise_budget(encrypted)} bits\")\n",
    "evaluator.mod_switch_to_next_inplace(encrypted)\n",
    "print(f\"    + Noise budget after modulus switching: {decryptor.invariant_noise_budget(encrypted)} bits\")"
   ]
  },
  {
   "cell_type": "markdown",
   "metadata": {},
   "source": [
    "At this point the ciphertext still decrypts correctly, has very small size,\n",
    "and the computation was as efficient as possible. Note that the decryptor\n",
    "can be used to decrypt a ciphertext at any level in the modulus switching\n",
    "chain."
   ]
  },
  {
   "cell_type": "code",
   "execution_count": 11,
   "metadata": {},
   "outputs": [
    {
     "name": "stdout",
     "output_type": "stream",
     "text": [
      "    + Decryption of the 8th power (hexadecimal)\n",
      "    1x^24 + 10x^23 + 88x^22 + 330x^21 + EFCx^20 + 3A30x^19 + C0B8x^18 + 22BB0x^17 + 58666x^16 + C88D0x^15 + 9C377x^14 + F4C0Ex^13 + E8B38x^12 + 5EE89x^11 + F8BFFx^10 + 30304x^9 + 5B9D4x^8 + 12653x^7 + 4DFB5x^6 + 879F8x^5 + 825FBx^4 + F1FFEx^3 + 3FFFFx^2 + 60000x^1 + 10000\n"
     ]
    }
   ],
   "source": [
    "plain = decryptor.decrypt(encrypted)\n",
    "print(f\"    + Decryption of the 8th power (hexadecimal)\")\n",
    "print(f\"    {plain.to_string()}\")"
   ]
  },
  {
   "cell_type": "markdown",
   "metadata": {},
   "source": [
    "In BFV modulus switching is not necessary and in some cases the user might\n",
    "not want to create the modulus switching chain, except for the highest two\n",
    "levels. This can be done by passing a bool `false` to SEALContext constructor.\n",
    "\n",
    "We can check that indeed the modulus switching chain has been created only\n",
    "for the highest two levels (key level and highest data level). The following\n",
    "loop should execute only once."
   ]
  },
  {
   "cell_type": "code",
   "execution_count": 12,
   "metadata": {},
   "outputs": [
    {
     "name": "stdout",
     "output_type": "stream",
     "text": [
      "Optionally disable modulus switching chain expansion.\n",
      "Print the modulus switching chain.\n",
      "----> Level (chain index): 1\n",
      "      parms_id: [2796926214238341906, 7385196832706630708, 1778331432907072121, 9574839751679865602]\n",
      "      coeff_modulus primes: 0x3ffffffef4001 0x3ffe8001 0x3fff4001 0x3fffffffcc001 0x3ffffffffc001 \n",
      "\\\n",
      " \\--> Level (chain index): 0\n",
      "      parms_id: [2386594185047272216, 3177129986462177089, 5264335169243394227, 3608211254040463884]\n",
      "      coeff_modulus primes: 0x3ffffffef4001 0x3ffe8001 0x3fff4001 0x3fffffffcc001 \n",
      "\\\n",
      " \\--> End of chain reached\n"
     ]
    }
   ],
   "source": [
    "context = seal.SEALContext(parms, False)\n",
    "\n",
    "print(\"Optionally disable modulus switching chain expansion.\")\n",
    "print(\"Print the modulus switching chain.\")\n",
    "print(\"---->\", end=\"\")\n",
    "context_data = context.key_context_data\n",
    "while context_data:\n",
    "    print(f\" Level (chain index): {context_data.chain_index}\")\n",
    "    print(f\"      parms_id: {context_data.parms_id}\")\n",
    "    print(f\"      coeff_modulus primes: \", end='')\n",
    "    for prime in context_data.parms.coeff_modulus:\n",
    "        print(f\"{hex(prime.value)} \", end=\"\")\n",
    "    print()\n",
    "    print(\"\\\\\")\n",
    "    print(\" \\\\-->\", end=\"\")\n",
    "    context_data = context_data.next_context_data\n",
    "print(\" End of chain reached\")"
   ]
  },
  {
   "cell_type": "markdown",
   "metadata": {},
   "source": [
    "It is very important to understand how this example works since in the BGV\n",
    "scheme modulus switching has a much more fundamental purpose and the next\n",
    "examples will be difficult to understand unless these basic properties are\n",
    "totally clear."
   ]
  }
 ],
 "metadata": {
  "interpreter": {
   "hash": "8c8e7fd03e532e5ea8c5c1e9477778b4377085d08aba5d98b415e479bafe6b16"
  },
  "kernelspec": {
   "display_name": "Python 3.8.10 ('SEALython-7og8I00u')",
   "language": "python",
   "name": "python3"
  },
  "language_info": {
   "codemirror_mode": {
    "name": "ipython",
    "version": 3
   },
   "file_extension": ".py",
   "mimetype": "text/x-python",
   "name": "python",
   "nbconvert_exporter": "python",
   "pygments_lexer": "ipython3",
   "version": "3.8.10"
  },
  "orig_nbformat": 4
 },
 "nbformat": 4,
 "nbformat_minor": 2
}
